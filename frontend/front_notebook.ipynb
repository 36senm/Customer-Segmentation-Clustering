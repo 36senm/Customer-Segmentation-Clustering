{
 "cells": [
  {
   "cell_type": "code",
   "execution_count": 1,
   "metadata": {},
   "outputs": [],
   "source": [
    "import requests"
   ]
  },
  {
   "cell_type": "markdown",
   "metadata": {},
   "source": [
    "data['distance_from_home'],\n",
    "                    data['distance_from_last_transaction'],\n",
    "                    data['ratio_to_median_purchase_price'],\n",
    "                    data['repeat_retailer'],\n",
    "                    data['used_chip'],\n",
    "                    data['used_pin_number'],\n",
    "                    data['online_order']]"
   ]
  },
  {
   "cell_type": "code",
   "execution_count": 15,
   "metadata": {},
   "outputs": [
    {
     "data": {
      "text/plain": [
       "{'code': 200,\n",
       " 'result': {'classes': '0', 'prediction': '0'},\n",
       " 'status': 'Success'}"
      ]
     },
     "execution_count": 15,
     "metadata": {},
     "output_type": "execute_result"
    }
   ],
   "source": [
    "#post, syarat untuk akses post harus mempunyai data json\n",
    "\n",
    "URL = \"http://127.0.0.1:5000/fraud\"\n",
    "\n",
    "data = {\"distance_from_home\": 10,\n",
    "        \"distance_from_last_transaction\": 21,\n",
    "        \"ratio_to_median_purchase_price\":5,\n",
    "        \"repeat_retailer\": 0,\n",
    "        \"used_chip\": 1,\n",
    "        \"used_pin_number\": 0,\n",
    "        \"online_order\": 0}\n",
    "\n",
    "r = requests.post(URL, json=data) #data disini merupakan data yang baru\n",
    "r.json()\n"
   ]
  }
 ],
 "metadata": {
  "interpreter": {
   "hash": "b3ba2566441a7c06988d0923437866b63cedc61552a5af99d1f4fb67d367b25f"
  },
  "kernelspec": {
   "display_name": "Python 3.9.12 ('base')",
   "language": "python",
   "name": "python3"
  },
  "language_info": {
   "codemirror_mode": {
    "name": "ipython",
    "version": 3
   },
   "file_extension": ".py",
   "mimetype": "text/x-python",
   "name": "python",
   "nbconvert_exporter": "python",
   "pygments_lexer": "ipython3",
   "version": "3.9.12"
  },
  "orig_nbformat": 4
 },
 "nbformat": 4,
 "nbformat_minor": 2
}
